{
 "cells": [
  {
   "cell_type": "code",
   "execution_count": 1,
   "id": "021dc783",
   "metadata": {
    "id": "021dc783"
   },
   "outputs": [],
   "source": [
    "from bs4 import BeautifulSoup\n",
    "import json\n",
    "import os"
   ]
  },
  {
   "cell_type": "code",
   "execution_count": 53,
   "id": "ae277bea",
   "metadata": {
    "id": "ae277bea"
   },
   "outputs": [],
   "source": [
    "def parseHTMLtoJSON(html_filepath, json_filepath):\n",
    "    # Парсим файл с помощью BeautifulSoup\n",
    "    with open(html_filepath) as html:\n",
    "        soup = BeautifulSoup(html, 'html.parser')\n",
    "\n",
    "    # Находим заголовок\n",
    "    title = soup.find('title').text\n",
    "\n",
    "    # Находим link\n",
    "    soup_link = soup.find_all('link', {'rel': 'canonical'})\n",
    "    link = soup_link[0].get('href')\n",
    "\n",
    "    # Находим содержимое статьи\n",
    "    div_text = soup.find_all('div', {'class': 'wiki-content'})\n",
    "    text = \"\"\n",
    "    # Инициализируем необходимые тэги\n",
    "    tags = ['p','td', 'h1', 'h2', 'th', 'li']\n",
    "    # Итерируемся по строкам с содержимым тэгов\n",
    "    for div in div_text:\n",
    "        rows_text = div.find_all(tags)\n",
    "        for row in rows_text:\n",
    "            # Проверка на пустоту\n",
    "            if len(row.text) > 0:\n",
    "                # Добавляем содержимое в общий текст\n",
    "                text += \" \" + row.text\n",
    "    #Убираем переносы строк\n",
    "    text = text.replace('\\n', ' ')\n",
    "\n",
    "    # Находим дату изменения\n",
    "    date = \"\"\n",
    "    soup_date = soup.find('a', {'class': 'last-modified'})\n",
    "    if soup_date:\n",
    "        date = soup_date.text\n",
    "\n",
    "    # Находим авторов\n",
    "    rows_author = soup.find_all('a', {'class': 'url fn'})\n",
    "    author = \"\"\n",
    "    # Итерируемся по строкам с содержимым тэгов\n",
    "    for row in rows_author:\n",
    "        # Проверка на пустоту\n",
    "        if len(row.text) > 0:\n",
    "            # Добавляем содержимое в общий текст\n",
    "            author += row.text + \", \"\n",
    "\n",
    "\n",
    "    # Инициализируем объект с текстом и ссылкой на него (путь до файла)\n",
    "    data = {'title' : title, 'text' : text, 'link' : link, 'date' : date, 'author' : author}\n",
    "    # Открываем json\n",
    "    with open(json_filepath,'r+') as file:\n",
    "        # Загружаем данные из него\n",
    "        file_data = json.load(file)\n",
    "        # Добавляем в структуру pages новый объект\n",
    "        file_data[\"pages\"].append(data)\n",
    "        # Возвращаем курсор в начало\n",
    "        file.seek(0)\n",
    "        # Загружаем обновленное содержимое\n",
    "        json.dump(file_data, file, indent=4, ensure_ascii=False)"
   ]
  },
  {
   "cell_type": "code",
   "execution_count": 54,
   "id": "5d71c1d5",
   "metadata": {
    "id": "5d71c1d5"
   },
   "outputs": [],
   "source": [
    "# Инициализируем путь до json файла\n",
    "json_filepath = '/Users/vadim/Downloads/ConfluencePages.json'\n",
    "pages = []\n",
    "# Инициализируем объект с пустым массивом pages\n",
    "data = {'pages':pages}\n",
    "# Открываем json и записываем пустой массив\n",
    "with open(json_filepath, 'w') as f:\n",
    "        json.dump(data, f, indent=4)"
   ]
  },
  {
   "cell_type": "code",
   "execution_count": 55,
   "id": "0962c89c",
   "metadata": {
    "id": "0962c89c"
   },
   "outputs": [],
   "source": [
    "# Инициализируем путь до директории с html файлами\n",
    "dirpath = '/Users/vadim/Downloads/PECOM_ТГУ_TASK3'\n",
    "# Итерируемся по директории\n",
    "for root, dirs, files in os.walk(dirpath):\n",
    "    # Итерируемся по файлам\n",
    "    for file in files:\n",
    "        # Проверка, что файл в формате html\n",
    "        if file.endswith('.html'):\n",
    "            # Инициализируем путь до итерируемого html файла\n",
    "            html_filepath = os.path.join(root, file)\n",
    "            # Парсим его в общий json\n",
    "            parseHTMLtoJSON(html_filepath, json_filepath)"
   ]
  },
  {
   "cell_type": "code",
   "execution_count": null,
   "id": "dc634491",
   "metadata": {
    "id": "dc634491"
   },
   "outputs": [],
   "source": []
  }
 ],
 "metadata": {
  "colab": {
   "provenance": []
  },
  "kernelspec": {
   "display_name": "Python 3 (ipykernel)",
   "language": "python",
   "name": "python3"
  },
  "language_info": {
   "codemirror_mode": {
    "name": "ipython",
    "version": 3
   },
   "file_extension": ".py",
   "mimetype": "text/x-python",
   "name": "python",
   "nbconvert_exporter": "python",
   "pygments_lexer": "ipython3",
   "version": "3.9.7"
  }
 },
 "nbformat": 4,
 "nbformat_minor": 5
}
