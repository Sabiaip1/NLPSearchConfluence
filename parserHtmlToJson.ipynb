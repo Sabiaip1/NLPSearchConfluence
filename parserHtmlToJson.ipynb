{
 "cells": [
  {
   "cell_type": "code",
   "execution_count": 52,
   "id": "021dc783",
   "metadata": {},
   "outputs": [],
   "source": [
    "from bs4 import BeautifulSoup\n",
    "import json\n",
    "import os"
   ]
  },
  {
   "cell_type": "code",
   "execution_count": 53,
   "id": "ae277bea",
   "metadata": {},
   "outputs": [],
   "source": [
    "def parseHTMLtoJSON(html_filepath, json_filepath):\n",
    "    # Парсим файл с помощью BeautifulSoup\n",
    "    with open(html_filepath) as html:\n",
    "        soup = BeautifulSoup(html, 'html.parser')\n",
    "    # Инициализируем необходимые тэги\n",
    "    tags = ['p','td', 'h1', 'h2', 'th', 'li']\n",
    "    # Находим содержимое всех тэгов\n",
    "    rows = soup.find_all(tags)\n",
    "    text = \"\"\n",
    "    # Итерируемся по строкам с содержимым тэгов\n",
    "    for row in rows:\n",
    "        # Проверка на пустоту\n",
    "        if len(row.text) > 0:\n",
    "            # Добавляем содержимое в общий текст\n",
    "            text += \" \" + row.text\n",
    "    # Инициализируем объект с текстом и ссылкой на него (путь до файла)\n",
    "    data = {'text' : text, 'link' : html_filepath}\n",
    "    # Открываем json\n",
    "    with open(json_filepath,'r+') as file:\n",
    "        # Загружаем данные из него\n",
    "        file_data = json.load(file)\n",
    "        # Добавляем в структуру pages новый объект\n",
    "        file_data[\"pages\"].append(data)\n",
    "        # Возвращаем курсор в начало\n",
    "        file.seek(0)\n",
    "        # Загружаем обновленное содержимое\n",
    "        json.dump(file_data, file, indent=4, ensure_ascii=False)"
   ]
  },
  {
   "cell_type": "code",
   "execution_count": 54,
   "id": "5d71c1d5",
   "metadata": {},
   "outputs": [],
   "source": [
    "# Инициализируем путь до json файла\n",
    "json_filepath = '/Users/vadim/Downloads/ConfluencePages.json'\n",
    "pages = []\n",
    "# Инициализируем объект с пустым массивом pages\n",
    "data = {'pages':pages}\n",
    "# Открываем json и записываем пустой массив\n",
    "with open(json_filepath, 'w') as f:\n",
    "        json.dump(data, f, indent=4)"
   ]
  },
  {
   "cell_type": "code",
   "execution_count": 55,
   "id": "0962c89c",
   "metadata": {},
   "outputs": [],
   "source": [
    "# Инициализируем путь до директории с html файлами\n",
    "dirpath = '/Users/vadim/Downloads/PECOM_ТГУ_TASK3'\n",
    "# Итерируемся по директории\n",
    "for root, dirs, files in os.walk(dirpath):\n",
    "    # Итерируемся по файлам\n",
    "    for file in files:\n",
    "        # Проверка, что файл в формате html\n",
    "        if file.endswith('.html'):\n",
    "            # Инициализируем путь до итерируемого html файла\n",
    "            html_filepath = os.path.join(root, file)\n",
    "            # Парсим его в общий json\n",
    "            parseHTMLtoJSON(html_filepath, json_filepath)"
   ]
  },
  {
   "cell_type": "code",
   "execution_count": null,
   "id": "dc634491",
   "metadata": {},
   "outputs": [],
   "source": []
  }
 ],
 "metadata": {
  "kernelspec": {
   "display_name": "Python 3 (ipykernel)",
   "language": "python",
   "name": "python3"
  },
  "language_info": {
   "codemirror_mode": {
    "name": "ipython",
    "version": 3
   },
   "file_extension": ".py",
   "mimetype": "text/x-python",
   "name": "python",
   "nbconvert_exporter": "python",
   "pygments_lexer": "ipython3",
   "version": "3.9.7"
  }
 },
 "nbformat": 4,
 "nbformat_minor": 5
}
