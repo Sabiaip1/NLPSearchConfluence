{
  "cells": [
    {
      "cell_type": "code",
      "execution_count": null,
      "metadata": {
        "id": "I5AcJYtqbDUu"
      },
      "outputs": [],
      "source": [
        "!pip install -q llama-index-embeddings-huggingface\n",
        "!pip install -q torch\n",
        "!pip install -q sentence-transformers\n",
        "!pip install -q llama_index\n",
        "!pip install -q tensorflow-io\n",
        "!pip install -q llama-index-vector-stores-chroma\n",
        "!pip install -q transformers\n",
        "!pip install -q elasticsearch\n",
        "!pip install -q peft\n",
        "!pip install -q langchain\n",
        "!pip install -q lancedb\n",
        "!pip install -q unstructured\n",
        "!pip install -U -q langchain-community\n",
        "!pip install -q llama-index-llms-huggingface"
      ]
    },
    {
      "cell_type": "code",
      "execution_count": null,
      "metadata": {
        "id": "y2tnxzZretv-"
      },
      "outputs": [],
      "source": [
        "# Импорт необходимых библиотек и модулей\n",
        "from sentence_transformers import SentenceTransformer\n",
        "from llama_index.core import Document, Settings, SimpleDirectoryReader, StorageContext, VectorStoreIndex\n",
        "from langchain.text_splitter import CharacterTextSplitter, RecursiveCharacterTextSplitter\n",
        "from langchain.document_loaders import JSONLoader\n",
        "from langchain.embeddings import HuggingFaceEmbeddings\n",
        "from langchain.vectorstores import ElasticsearchStore\n",
        "from langchain.chains import RetrievalQA\n",
        "from langchain.llms import HuggingFaceHub\n",
        "from langchain.document_transformers import LongContextReorder\n",
        "from langchain.prompts import PromptTemplate\n",
        "from typing import Any, Generator\n",
        "from peft import AutoPeftModelForCausalLM, PeftModel, PeftConfig\n",
        "from transformers import AutoModelForCausalLM, AutoTokenizer, GenerationConfig, AutoModel\n",
        "import torch\n",
        "import torch.nn.functional as F\n",
        "from llama_index.core.llms import CustomLLM, CompletionResponse, CompletionResponseGen, LLMMetadata\n",
        "from llama_index.core.llms.callbacks import llm_completion_callback\n",
        "from llama_index.core.retrievers import VectorIndexAutoRetriever\n",
        "from llama_index.core.vector_stores.types import MetadataInfo, VectorStoreInfo\n",
        "from llama_index.core.postprocessor import SentenceTransformerRerank\n",
        "from llama_index.core import PromptTemplate, get_response_synthesizer\n",
        "from llama_index.core.query_engine import RetrieverQueryEngine\n",
        "from llama_index.core.node_parser import SentenceSplitter"
      ]
    },
    {
      "cell_type": "code",
      "execution_count": null,
      "metadata": {
        "id": "s2WABIDEfLMy"
      },
      "outputs": [],
      "source": [
        "# Импорт библиотек TensorFlow и TensorFlow I/O\n",
        "import tensorflow as tf\n",
        "import tensorflow_io as tfio\n",
        "\n",
        "# Импорт дополнительных модулей из TensorFlow\n",
        "from tensorflow.keras import layers\n",
        "from tensorflow.keras.layers.experimental import preprocessing"
      ]
    },
    {
      "cell_type": "code",
      "execution_count": null,
      "metadata": {
        "id": "9V-n03mYfw-z"
      },
      "outputs": [],
      "source": [
        "# Установка Elasticsearch\n",
        "%%capture\n",
        "!pip install elasticsearch==8.8.0"
      ]
    },
    {
      "cell_type": "code",
      "execution_count": null,
      "metadata": {
        "id": "rmFuJlV7fxHb"
      },
      "outputs": [],
      "source": [
        "%%bash\n",
        "\n",
        "rm -rf elasticsearch*\n",
        "wget -q https://artifacts.elastic.co/downloads/elasticsearch/elasticsearch-8.8.0-linux-x86_64.tar.gz\n",
        "tar -xzf elasticsearch-8.8.0-linux-x86_64.tar.gz\n",
        "sudo chown -R daemon:daemon elasticsearch-8.8.0/\n",
        "umount /sys/fs/cgroup\n",
        "apt install cgroup-tools"
      ]
    },
    {
      "cell_type": "code",
      "execution_count": null,
      "metadata": {
        "id": "120gmj2bfxOs"
      },
      "outputs": [],
      "source": [
        "try:\n",
        "    import os\n",
        "    import elasticsearch\n",
        "    from elasticsearch import Elasticsearch\n",
        "    import numpy as np\n",
        "    import pandas as pd\n",
        "    import sys\n",
        "    import json\n",
        "    from ast import literal_eval\n",
        "    from tqdm import tqdm\n",
        "    import datetime\n",
        "    from elasticsearch import helpers\n",
        "\n",
        "except Exception as e:\n",
        "    print(f\"error: {e}\")"
      ]
    },
    {
      "cell_type": "code",
      "execution_count": null,
      "metadata": {
        "id": "IbTVKYH3gRx7"
      },
      "outputs": [],
      "source": [
        "# Запуск Elasticsearch в фоновом режиме\n",
        "%%bash --bg\n",
        "\n",
        "sudo -H -u daemon elasticsearch-8.8.0/bin/elasticsearch"
      ]
    },
    {
      "cell_type": "code",
      "execution_count": null,
      "metadata": {
        "id": "h8SjlVTLgWHI"
      },
      "outputs": [],
      "source": [
        " # Импорт библиотеки для работы со временем\n",
        "import time\n",
        "time.sleep(120)"
      ]
    },
    {
      "cell_type": "code",
      "execution_count": null,
      "metadata": {
        "id": "NpxOzChhgWPP"
      },
      "outputs": [],
      "source": [
        "# Проверка работающих процессов Elasticsearch\n",
        "!ps -ef | grep elastic"
      ]
    },
    {
      "cell_type": "code",
      "execution_count": null,
      "metadata": {
        "id": "r9kSNKCDgf93"
      },
      "outputs": [],
      "source": [
        "# Настройка паролей для Elasticsearch\n",
        "!/content/elasticsearch-8.8.0/bin/elasticsearch-setup-passwords auto -url \"https://localhost:9200\""
      ]
    },
    {
      "cell_type": "code",
      "execution_count": null,
      "metadata": {
        "id": "4-0kzoBSggEx"
      },
      "outputs": [],
      "source": [
        "# Проверка доступности сервера Elasticsearch\n",
        "!curl --cacert /content/elasticsearch-8.8.0/config/certs/http_ca.crt -u elastic -H 'Content-Type: application/json' -XGET https://localhost:9200/?pretty=true"
      ]
    },
    {
      "cell_type": "code",
      "execution_count": null,
      "metadata": {
        "id": "xc5y1cu8gWWQ"
      },
      "outputs": [],
      "source": [
        "# Установка учетных данных для подключения к Elasticsearch\n",
        "username = 'elastic'\n",
        "\n",
        "password = 'JstXEztaqQEigZ8TOTxl'\n",
        "\n",
        "# Создание подключения к Elasticsearch\n",
        "es = Elasticsearch(['https://localhost:9200'], basic_auth=(username, password), ca_certs=\"/content/elasticsearch-8.8.0/config/certs/http_ca.crt\")\n",
        "\n",
        "resp = dict(es.info())\n",
        "\n",
        "resp"
      ]
    },
    {
      "cell_type": "code",
      "execution_count": null,
      "metadata": {
        "id": "we0TLFPHgvEl"
      },
      "outputs": [],
      "source": [
        "# Проверка работоспособности сервера\n",
        "es.ping()"
      ]
    },
    {
      "cell_type": "code",
      "execution_count": null,
      "metadata": {
        "collapsed": true,
        "id": "7FvUp5mwgzcZ"
      },
      "outputs": [],
      "source": [
        "# Путь к JSON-файлу\n",
        "json_file_path = '/content/ConfluencePages...json'\n",
        "\n",
        "# Загрузка данных из JSON-файла\n",
        "with open(json_file_path, 'r', encoding='utf-8') as file:\n",
        "    data = json.load(file)\n",
        "\n",
        "# Создание списка документов с использованием LlamaIndex\n",
        "documents = [Document(\n",
        "    text=page['text'],\n",
        "    metadata={\"title\": page['title'], \"link\": page['link'], \"date\": page['date'], \"author\": page['author']},\n",
        ") for page in data['pages']]\n",
        "\n",
        "# Вывод текста первого документа\n",
        "print((documents[0].text))\n",
        "\n",
        "documents[0]"
      ]
    },
    {
      "cell_type": "code",
      "execution_count": null,
      "metadata": {
        "id": "9uXCSuQ0gzjs"
      },
      "outputs": [],
      "source": [
        "# Разбиение документов на узлы с использованием SentenceSplitter\n",
        "parser = SentenceSplitter(chunk_size=400, chunk_overlap=50)\n",
        "# Получение узлов из документов\n",
        "nodes = parser.get_nodes_from_documents(documents)\n",
        "\n",
        "# Вывод количества созданных узлов и документов\n",
        "print(f\"Created {len(nodes)} nodes from {len(documents)} documents\")"
      ]
    },
    {
      "cell_type": "code",
      "execution_count": null,
      "metadata": {
        "collapsed": true,
        "id": "yngc7c6lqtvw"
      },
      "outputs": [],
      "source": [
        "# Вывод текста и метаданных первых трех узлов\n",
        "for i in range(3):\n",
        "    print(f\"Chunk {i + 1}:\")\n",
        "    print(\"Text:\")\n",
        "    print(nodes[i].text)\n",
        "    print(\"------------------\")\n",
        "    print(f\"Title: {nodes[i].metadata['title']}\")\n",
        "    print(f\"Link: {nodes[i].metadata['link']}\")\n",
        "    print(f\"Date: {nodes[i].metadata['date']}\")\n",
        "    print(f\"Author: {nodes[i].metadata['author']}\")\n",
        "    print(\"------------------\")"
      ]
    },
    {
      "cell_type": "code",
      "execution_count": null,
      "metadata": {
        "collapsed": true,
        "id": "Glr1gFvJhzwQ"
      },
      "outputs": [],
      "source": [
        "# Определение устройства (GPU, если доступен, иначе CPU)\n",
        "device = torch.device(\"cuda\" if torch.cuda.is_available() else \"cpu\")\n",
        "\n",
        "# Загрузка модели для векторных представлений\n",
        "embed_model = SentenceTransformer('distiluse-base-multilingual-cased-v2').to(device)"
      ]
    },
    {
      "cell_type": "code",
      "execution_count": null,
      "metadata": {
        "collapsed": true,
        "id": "rKSGUV0shpDL"
      },
      "outputs": [],
      "source": [
        "# Загрузка модели и токенизатора\n",
        "adapt_model_name = \"IlyaGusev/saiga_mistral_7b_lora\"\n",
        "base_model_name = \"Open-Orca/Mistral-7B-OpenOrca\"\n",
        "tokenizer = AutoTokenizer.from_pretrained(base_model_name, trust_remote_code=True)\n",
        "# Установка токена заполнения\n",
        "tokenizer.pad_token = tokenizer.eos_token\n",
        "\n",
        "# Загрузка модели с использованием PEFT\n",
        "model = AutoPeftModelForCausalLM.from_pretrained(adapt_model_name, device_map={\"\": device}, torch_dtype=torch.bfloat16).to(device)\n",
        "\n",
        "# Определение класса Saiga\n",
        "class Saiga(CustomLLM):\n",
        "    num_output: int = 512 # Количество выходных токенов\n",
        "    model_name: str = \"Saiga\" # Имя модели\n",
        "    model: Any = None\n",
        "\n",
        "    def __init__(self, model, num_output):\n",
        "        super(Saiga, self).__init__()\n",
        "        self.model = model # Инициализация модели\n",
        "        self.num_output = num_output # Инициализация количества выходных токенов\n",
        "\n",
        "    @property\n",
        "    def metadata(self) -> LLMMetadata:  # Метод для получения метаданных модели\n",
        "        \"\"\"Get LLM metadata.\"\"\"\n",
        "        return LLMMetadata(\n",
        "            num_output=self.num_output,\n",
        "            model_name=self.model_name,\n",
        "        )\n",
        "\n",
        "    @llm_completion_callback() # Декоратор для обратного вызова\n",
        "    def complete(self, prompt: str, **kwargs: Any) -> CompletionResponse: # Метод для генерации ответа\n",
        "        inputs = tokenizer(prompt, return_tensors=\"pt\").to(device) # Токенизация входного запроса\n",
        "        with torch.no_grad(): # Отключение градиентов\n",
        "            outputs = self.model.generate( # Генерация ответа\n",
        "                input_ids=inputs[\"input_ids\"],  # Входные идентификаторы\n",
        "                attention_mask=inputs[\"attention_mask\"], # Маска внимания\n",
        "                max_new_tokens=self.num_output, # Максимальное количество новых токенов\n",
        "                temperature=0.3,\n",
        "                top_p=0.5,\n",
        "                pad_token_id=tokenizer.eos_token_id,\n",
        "                do_sample=True,  # Включение выборки\n",
        "                **kwargs\n",
        "            )\n",
        "        text = tokenizer.decode(outputs[0], skip_special_tokens=True) # Декодирование выходного текста\n",
        "        return CompletionResponse(text=text)\n",
        "\n",
        "    @llm_completion_callback()\n",
        "    def stream_complete(self, prompt: str, **kwargs: Any) -> CompletionResponseGen:\n",
        "        inputs = tokenizer(prompt, return_tensors=\"pt\").to(device)\n",
        "        response = \"\"\n",
        "        for output in self.model.generate(\n",
        "            input_ids=inputs[\"input_ids\"],\n",
        "            attention_mask=inputs[\"attention_mask\"],\n",
        "            max_new_tokens=self.num_output,\n",
        "            temperature=0.3,\n",
        "            top_p=0.5,\n",
        "            pad_token_id=tokenizer.eos_token_id,\n",
        "            do_sample=True,\n",
        "            **kwargs,\n",
        "            stream=True\n",
        "        ):\n",
        "            token = tokenizer.decode(output, skip_special_tokens=True)\n",
        "            response += token # Добавление токена к ответу\n",
        "            yield CompletionResponse(text=response, delta=token)\n",
        "\n",
        "# Создание экземпляра класса Saiga\n",
        "saiga = Saiga(model, 512)"
      ]
    },
    {
      "cell_type": "code",
      "execution_count": null,
      "metadata": {
        "id": "2m00iZ9whpLH"
      },
      "outputs": [],
      "source": [
        "# Функция для получения эмбеддингов\n",
        "def get_embedding(sentence):\n",
        "    return embed_model.encode(sentence, convert_to_tensor=True).to(device)\n",
        "\n",
        "# Вычисление эмбеддингов для всех узлов\n",
        "embeddings = [get_embedding(node.text) for node in nodes]"
      ]
    },
    {
      "cell_type": "code",
      "execution_count": null,
      "metadata": {
        "id": "zr2-QjmmJOTU"
      },
      "outputs": [],
      "source": [
        "# Удаление индекса \"articles\", если он существует\n",
        "es.indices.delete(index=\"articles\", ignore_unavailable=True)"
      ]
    },
    {
      "cell_type": "code",
      "execution_count": null,
      "metadata": {
        "id": "ETjGoBepQ3Oj"
      },
      "outputs": [],
      "source": [
        "#es = Elasticsearch(['https://localhost:9200'], basic_auth=('elastic', 'JstXEztaqQEigZ8TOTxl'), ca_certs=\"/content/elasticsearch-8.8.0/config/certs/http_ca.crt\")\n",
        "\n",
        "# Настройки для индексации\n",
        "settings = {\n",
        "    \"analysis\": {\n",
        "        \"analyzer\": {\n",
        "            \"my_custom_index_analyzer\": {\n",
        "                \"tokenizer\": \"standard\",\n",
        "                \"filter\": [\"lowercase\"], # Применение фильтра для приведения к нижнему регистру\n",
        "            },\n",
        "            \"my_custom_search_analyzer\": {\n",
        "                \"tokenizer\": \"standard\",\n",
        "                \"filter\": [\"lowercase\", \"my_synonym_filter\"],\n",
        "            },\n",
        "        },\n",
        "        \"filter\": {\n",
        "            \"my_synonym_filter\": {\n",
        "                \"type\": \"synonym_graph\",\n",
        "                \"synonyms\": [ # Синонимы для фильтрации\n",
        "                    \"отдел, департамент\",\n",
        "                    \"обращение, запрос\",\n",
        "                    \"клиент, заказчик\",\n",
        "                    \"контракт, соглашение\",\n",
        "                    \"контрагент, заказчик\"\n",
        "                ],\n",
        "                \"updateable\": True,\n",
        "            }\n",
        "        },\n",
        "    }\n",
        "}\n",
        "\n",
        "# Определение маппинга для индекса\n",
        "mappings = {\n",
        "    \"properties\": {\n",
        "        \"text\": {\n",
        "            \"type\": \"text\",\n",
        "            \"analyzer\": \"my_custom_index_analyzer\", # Анализатор для индексации\n",
        "            \"search_analyzer\": \"my_custom_search_analyzer\", # Анализатор для поиска\n",
        "        },\n",
        "        \"link\": {\"type\": \"keyword\"}, # Тип поля для ссылки\n",
        "        \"embedding\": {\"type\": \"dense_vector\", \"dims\": 512} # Тип поля для векторного представления\n",
        "    }\n",
        "}\n",
        "\n",
        "# Создание индекса \"articles\"\n",
        "try:\n",
        "    es.indices.create(index=\"articles\", mappings=mappings, settings=settings)\n",
        "    print(\"Индекс 'articles' создан\")\n",
        "except Exception as e:\n",
        "    print(f\"Ошибка при создании индекса 'articles': {e}\")"
      ]
    },
    {
      "cell_type": "code",
      "execution_count": null,
      "metadata": {
        "id": "QBhCEkbriHHD"
      },
      "outputs": [],
      "source": [
        "# Функция для поиска статей в Elasticsearch с использованием векторных представлений\n",
        "def search_articles(query, top_k=5):\n",
        "    query_embedding = get_embedding(query).tolist() # Получение эмбеддинга для запроса\n",
        "    script_query = {\n",
        "        \"script_score\": {\n",
        "            \"query\": {\"match_all\": {}}, # Запрос для поиска всех документов\n",
        "            \"script\": {\n",
        "                \"source\": \"cosineSimilarity(params.query_vector, 'embedding') + 1.0\", # Использование косинусного сходства\n",
        "                \"params\": {\"query_vector\": query_embedding} # Вектор запроса\n",
        "            }\n",
        "        }\n",
        "    }\n",
        "    response = es.search(index=\"articles\", body={ # Выполнение поиска\n",
        "        \"size\": top_k, # Количество возвращаемых результатов\n",
        "        \"query\": script_query, # Запрос\n",
        "        \"_source\": [\"text\", \"link\"] # Поля, которые нужно вернут\n",
        "    })\n",
        "    return response['hits']['hits'] # Возврат результатов поиска"
      ]
    },
    {
      "cell_type": "code",
      "execution_count": null,
      "metadata": {
        "id": "_IYjIVW0iHNo"
      },
      "outputs": [],
      "source": [
        "# Функция для генерации ответа\n",
        "def generate_response(question, context):\n",
        "    prompt = question + context # Объединение вопроса и контекста в один запрос\n",
        "    response = saiga.complete(prompt) # Генерация ответа с использованием модели Saiga\n",
        "    return response.text"
      ]
    },
    {
      "cell_type": "code",
      "execution_count": null,
      "metadata": {
        "id": "t-1lbiC7iHTz"
      },
      "outputs": [],
      "source": [
        "# Создаем экземпляр класса LongContextReorder для переупорядочивания контекста\n",
        "reorderer = LongContextReorder()\n",
        "\n",
        "# Функция для ответа на вопрос с возможностью переупорядочивания результатов\n",
        "def answer_question_with_reorder(query, reorder=True, print_results=False):\n",
        "    results = search_articles(query) # Поиск статей по запросу\n",
        "    if print_results:\n",
        "        for hit in results: # Перебор найденных результатов\n",
        "            print(f\"{hit['_source']['text']}\\n--------\")\n",
        "    if reorder:\n",
        "        results = reorderer.transform_documents(results) # Переупорядочивание результатов\n",
        "    context = \" \".join([hit[\"_source\"][\"text\"] for hit in results])\n",
        "    response = generate_response(query, context) # Генерация ответа на основе запроса и контекста\n",
        "    link = results[0][\"_source\"][\"link\"] if results else None # Получение ссылки на первую статью, если есть результаты\n",
        "    return {\n",
        "        \"response\": response,\n",
        "        \"link\": link\n",
        "    }"
      ]
    },
    {
      "cell_type": "code",
      "execution_count": null,
      "metadata": {
        "id": "r-WKUhU2X7sU"
      },
      "outputs": [],
      "source": [
        "# Импорт необходимых классов для работы с Elasticsearch\n",
        "from langchain_community.vectorstores import ElasticsearchStore\n",
        "from elasticsearch import Elasticsearch\n",
        "\n",
        "# Создание экземпляра ElasticsearchStore\n",
        "es_vector_store = ElasticsearchStore(\n",
        "    index_name=\"articles\",\n",
        "    embedding=embed_model,\n",
        "    es_connection=es,\n",
        "    vector_query_field='vector',  # Поле для векторного запроса\n",
        "    query_field='text',            # Поле для текстового запроса\n",
        "    distance_strategy='COSINE'     # Стратегия расстояния для поиска\n",
        ")"
      ]
    },
    {
      "cell_type": "code",
      "execution_count": null,
      "metadata": {
        "id": "gCCjYzSWikLQ"
      },
      "outputs": [],
      "source": [
        "# Определение метаданных и информации о векторном хранилище\n",
        "vector_store_info = VectorStoreInfo(\n",
        "    content_info=\"Библиотека статей для чат-бота\",\n",
        "    metadata_info=[\n",
        "        MetadataInfo(\n",
        "            name=\"title\",\n",
        "            type=\"str\",\n",
        "            description=\"Заголовок статьи\"\n",
        "        ),\n",
        "        MetadataInfo(\n",
        "            name=\"text\",\n",
        "            type=\"str\",\n",
        "            description=\"Текст статьи\"\n",
        "        ),\n",
        "        MetadataInfo(\n",
        "            name=\"link\",\n",
        "            type=\"str\",\n",
        "            description=\"Ссылка на полную статью\"\n",
        "        ),\n",
        "        MetadataInfo(\n",
        "            name=\"date\",\n",
        "            type=\"date\",\n",
        "            description=\"Дата публикации статьи\"\n",
        "        ),\n",
        "        MetadataInfo(\n",
        "            name=\"author\",\n",
        "            type=\"str\",\n",
        "            description=\"Автор статьи\"\n",
        "        )\n",
        "    ],\n",
        ")"
      ]
    },
    {
      "cell_type": "code",
      "execution_count": null,
      "metadata": {
        "id": "gX-MlqqCobl8"
      },
      "outputs": [],
      "source": [
        "# Создание извлекателя на основе ElasticsearchStore\n",
        "retriever = es_vector_store.as_retriever()"
      ]
    },
    {
      "cell_type": "code",
      "execution_count": null,
      "metadata": {
        "id": "NeUontGziv8w"
      },
      "outputs": [],
      "source": [
        "# Настройка переранжирования\n",
        "rerank = SentenceTransformerRerank(\n",
        "    top_n = 2, # Количество верхних результатов для переупорядочивания\n",
        "    model = \"BAAI/bge-reranker-base\"  # Модель для переупорядочивания\n",
        ")"
      ]
    },
    {
      "cell_type": "code",
      "execution_count": null,
      "metadata": {
        "id": "bvEsTUt7iwEn"
      },
      "outputs": [],
      "source": [
        "# Определение шаблона промпта для вопросно-ответной системы\n",
        "qa_prompt_tmpl_str = \"\"\"\\\n",
        "Контекстная информация о статье:\n",
        "---------------------\n",
        "{context_str}\n",
        "---------------------\n",
        "Пример вопроса и ответа:\n",
        "---------------------\n",
        "Вопрос: {example_question}\n",
        "Ответ: {example_answer}\n",
        "---------------------\n",
        "Текущий запрос пользователя:\n",
        "---------------------\n",
        "{query_str}\n",
        "---------------------\n",
        "Ответьте на запрос, используя контекстную информацию и пример. Укажите ссылку на источник, если это возможно.\n",
        "Ответ: \\\n",
        "\"\"\"\n",
        "\n",
        "# Создание шаблона промпта на основе строки\n",
        "qa_prompt_tmpl = PromptTemplate(qa_prompt_tmpl_str)\n",
        "\n",
        "# Контекстная информация о статье\n",
        "context_str = \"\"\"\n",
        "Клиент просит отключить уведомления (E-mail; ВК; Viber; СМС; Автообзвон; Обзвон)\n",
        "Действия при поступлении запроса от клиента\n",
        "Для отключения уведомлений, необходимо уточнить у клиента и отправить на почту pecom@pecom.ru:\n",
        "Тема письма: Отказ от уведомлений\n",
        "Причину отказа от уведомлений (которую назвал клиент)\n",
        "Номер телефона или E-mail – который отключаем\n",
        "Канал оповещения (E-mail или ВК или Viber или СМС или Автообзвон или Обзвон)\n",
        "Наименование и ИНН/ФИО и данные документа контрагента, которому требуется отключить уведомления\n",
        "Номер телефона, с которого звонил клиент\n",
        "Обработка запроса на почте pecom@pecom.ru\n",
        "Занесение контакта в список отказа от уведомлений\n",
        "Если необходимо отключить уведомления определённому клиенту или группе лиц, по одному или нескольким каналам связи (E-mail; ВК; Viber; СМС; Автообзвон; Обзвон; и т.д.), то в Пегасе, на вкладке «Обработки» необходимо нажать «Отказ от уведомлений» и выполнить ряд действий:\n",
        "После нажатия откроется окно: «Отказ от уведомлений»\n",
        "Имеются два способа занесения контакта в «Чёрный список»:\n",
        "Через поиск по ИНН.\n",
        "Через «Добавление в отказ от уведомлений».\n",
        "Поиск по ИНН\n",
        "В поле «ИНН Контрагента» - ввести номер ИНН клиента и нажать кнопку «Найти контактные данные КА по ИНН»:\n",
        "В открывшимся окне выбрать «галочками» контакты которые необходимо заблокировать (телефон или E-mail) и нажать кнопку «Добавление в отказ от уведомлений»:\n",
        "Открывается «Режим добавления в ЧС», (номера телефонов и E-mail блокируются в разных меню).\n",
        "Выбрать «галочками» необходимый канал блокировки: телефон или E-mail, прописать комментарии в строку «Примечание» и «Причина» и нажать кнопку «Записать элемент»:\n",
        "Результат: выбранные контакты внесены в отказ от уведомлений и отображаются на вкладке «Активные телефоны ЧС»:\n",
        "Добавление в отказ от уведомлений\n",
        "В окне «Отказ от уведомлений» нажать кнопку «Добавление в отказ от уведомлений»:\n",
        "В открывшемся окне, в строку «Телефон» вбить необходимый контакт, (как ниже в примере), «галочками» отметить необходимый канал отказа от уведомлений, прописать примечание и причину, нажать кнопку «Записать элемент».\n",
        "Если необходимо заблокировать почтовое уведомление, нужно поставить галочку «E-mail», вбить почтовый адрес, прописать примечание и причину, нажать кнопку «Записать элемент».\n",
        "Результат: выбранные контакты внесены в ЧС и отображаются на вкладке «Активные телефоны ЧС»:\n",
        "Исключение номера телефона или E-mail из списка «Отказ от уведомлений»\n",
        "В окне «Отказ от уведомлений», на вкладке «Активные телефоны ЧС», встать/выделить необходимый контакт для исключения и нажать кнопку «Удаление из отказа от уведомлений»:\n",
        "В открывшимся окне «Режим удаления из ЧС: Отказ от уведомлений», прописать примечание и причину, нажать кнопку «Записать элемент»:\n",
        "Результат: контакт пропадает из «Активных телефонов ЧС», появится запись/строка на вкладке «Удалённые телефоны из ЧС».\n",
        "\"\"\"\n",
        "\n",
        "# Пример вопроса и ответа\n",
        "example_question = \"Как занести контакт в черный список?\"\n",
        "example_answer = \"Имеются два способа занесения контакта в «Чёрный список»: Через поиск по ИНН. Через «Добавление в отказ от уведомлений».\"\n"
      ]
    },
    {
      "cell_type": "code",
      "source": [
        "# Создание синтезатора ответов с использованием модели Saiga и шаблона\n",
        "response_synthesizer = get_response_synthesizer(\n",
        "    llm=saiga,\n",
        "    text_qa_template=qa_prompt_tmpl # Шаблон для вопросно-ответной системы\n",
        ")"
      ],
      "metadata": {
        "id": "ZvVOgejgIZjq"
      },
      "execution_count": null,
      "outputs": []
    },
    {
      "cell_type": "code",
      "execution_count": null,
      "metadata": {
        "id": "vjED8IvujAV-"
      },
      "outputs": [],
      "source": [
        "# Создание расширенной RAG системы\n",
        "advanced_rag_query_engine = RetrieverQueryEngine(\n",
        "    retriever=retriever,\n",
        "    response_synthesizer=response_synthesizer, # Синтезатор ответов\n",
        "    node_postprocessors = [rerank], # Постобработчики узлов\n",
        ")"
      ]
    },
    {
      "cell_type": "code",
      "execution_count": null,
      "metadata": {
        "id": "WXxhFWZ7jBhG"
      },
      "outputs": [],
      "source": [
        "# Функция для интерактивного поиска с переупорядочиванием\n",
        "def interactive_search_with_reorder():\n",
        "    while True: # Бесконечный цикл для интерактивного ввода\n",
        "        inp_question = input(\"Пожалуйста, введите вопрос: \")\n",
        "        result = answer_question_with_reorder(inp_question, reorder=True, print_results=True)\n",
        "        print(\"\\nОтвет:\") # Вывод заголовка ответа\n",
        "        print(result[\"response\"]) # Вывод текста ответа\n",
        "        if result[\"link\"]: # Если есть ссылка на источник\n",
        "            print(f\"\\nСсылка на источник: {result['link']}\") # Вывод ссылки\n",
        "        print(\"\\n\\n========\\n\") # Разделитель для удобства чтения\n",
        "\n",
        "# Основная функция, запускающая интерактивный поиск\n",
        "if __name__ == \"__main__\":\n",
        "    interactive_search_with_reorder()"
      ]
    }
  ],
  "metadata": {
    "colab": {
      "provenance": []
    },
    "kernelspec": {
      "display_name": "Python 3",
      "name": "python3"
    },
    "language_info": {
      "name": "python"
    }
  },
  "nbformat": 4,
  "nbformat_minor": 0
}